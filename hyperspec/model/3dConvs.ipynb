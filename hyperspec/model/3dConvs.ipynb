{
 "cells": [
  {
   "cell_type": "code",
   "execution_count": 78,
   "metadata": {},
   "outputs": [],
   "source": [
    "# Torch\n",
    "import torch.nn as nn\n",
    "import torch.nn.functional as F\n",
    "import torch\n",
    "import torch.optim as optim\n",
    "from torch.nn import init\n",
    "# utils\n",
    "import math\n",
    "import os\n",
    "import datetime\n",
    "import numpy as np\n",
    "from sklearn.externals import joblib\n",
    "from tqdm import tqdm\n"
   ]
  },
  {
   "cell_type": "code",
   "execution_count": 79,
   "metadata": {},
   "outputs": [],
   "source": [
    "# input 1 (InputLayer) (25, 25, 30, 1) 0\n",
    "# conv3d 1 (Conv3D) (23, 23, 24, 8) 512\n",
    "# conv3d 2 (Conv3D) (21, 21, 20, 16) 5776\n",
    "# conv3d 3 (Conv3D) (19, 19, 18, 32) 13856\n",
    "# reshape 1 (Reshape) (19, 19, 576) 0\n",
    "# conv2d 1 (Conv2D) (17, 17, 64) 331840\n",
    "# flatten 1 (Flatten) (18496) 0\n",
    "# dense 1 (Dense) (256) 4735232\n",
    "# dropout 1 (Dropout) (256) 0\n",
    "# dense 2 (Dense) (128) 32896\n",
    "# dropout 2 (Dropout) (128) 0\n",
    "# dense 3 (Dense) (16) 2064"
   ]
  },
  {
   "cell_type": "code",
   "execution_count": 109,
   "metadata": {},
   "outputs": [],
   "source": [
    "def model(input):\n",
    "    conv1 = nn.Conv3d(25,8, (3, 3, 3), stride=(1, 1, 1), padding=(0, 1, 1))\n",
    "    output = conv1(input)\n",
    "    conv2 = nn.Conv3d(8, 8,(3, 3, 3),stride=(1, 1, 1), padding=(0,1,1))\n",
    "    output2 = conv2(output)\n",
    "    conv3 = nn.Conv3d(8, 16, 1,stride=1)\n",
    "    output3 = conv3(output2)\n",
    "    conv3d_shape = output3.shape\n",
    "    conv_layer3 = output3.reshape((conv3d_shape[1], conv3d_shape[2]*conv3d_shape[0], conv3d_shape[3]*conv3d_shape[4],1))\n",
    "    conv2d = nn.Conv2d(30, 16, 1, stride=(1))\n",
    "    output2d = conv2d(conv_layer3)\n",
    "    conv2d1 = torch.flatten(output2d)\n",
    "    convDense = nn.Linear(2560,16)\n",
    "    output2dFlattened = convDense(conv2d1)\n",
    "    convDense2 = nn.Linear(16,16)\n",
    "    convDense22= convDense2(output2dFlattened)\n",
    "    finalOutput = convDense22.view(-1, 16)\n",
    "    return finalOutput[0]"
   ]
  },
  {
   "cell_type": "code",
   "execution_count": 113,
   "metadata": {},
   "outputs": [],
   "source": [
    "import pytest\n",
    "\n",
    "def test_Model(input):\n",
    "    assert len(model(input)) == 16"
   ]
  },
  {
   "cell_type": "code",
   "execution_count": 114,
   "metadata": {},
   "outputs": [],
   "source": [
    "input = torch.randn(5, 25, 10, 10, 1)\n",
    "test_Model(input)"
   ]
  },
  {
   "cell_type": "code",
   "execution_count": null,
   "metadata": {},
   "outputs": [],
   "source": []
  }
 ],
 "metadata": {
  "kernelspec": {
   "display_name": "Python 3",
   "language": "python",
   "name": "python3"
  },
  "language_info": {
   "codemirror_mode": {
    "name": "ipython",
    "version": 3
   },
   "file_extension": ".py",
   "mimetype": "text/x-python",
   "name": "python",
   "nbconvert_exporter": "python",
   "pygments_lexer": "ipython3",
   "version": "3.7.3"
  }
 },
 "nbformat": 4,
 "nbformat_minor": 2
}
