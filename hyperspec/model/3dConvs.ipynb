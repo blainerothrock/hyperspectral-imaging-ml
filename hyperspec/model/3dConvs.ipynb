{
 "cells": [
  {
   "cell_type": "code",
   "execution_count": 79,
   "metadata": {},
   "outputs": [],
   "source": [
    "# input 1 (InputLayer) (25, 25, 30, 1) 0\n",
    "# conv3d 1 (Conv3D) (23, 23, 24, 8) 512\n",
    "# conv3d 2 (Conv3D) (21, 21, 20, 16) 5776\n",
    "# conv3d 3 (Conv3D) (19, 19, 18, 32) 13856\n",
    "# reshape 1 (Reshape) (19, 19, 576) 0\n",
    "# conv2d 1 (Conv2D) (17, 17, 64) 331840\n",
    "# flatten 1 (Flatten) (18496) 0\n",
    "# dense 1 (Dense) (256) 4735232\n",
    "# dropout 1 (Dropout) (256) 0\n",
    "# dense 2 (Dense) (128) 32896\n",
    "# dropout 2 (Dropout) (128) 0\n",
    "# dense 3 (Dense) (16) 2064"
   ]
  },
  {
   "cell_type": "code",
   "execution_count": 287,
   "metadata": {},
   "outputs": [],
   "source": [
    "from hybridsn import HybridSN\n",
    "from torchsummary import summary\n",
    "import torch.nn as nn\n",
    "import torch.nn.functional as F\n",
    "import torch"
   ]
  },
  {
   "cell_type": "code",
   "execution_count": 288,
   "metadata": {},
   "outputs": [],
   "source": [
    "input = torch.randn(1, 1, 25, 25, 30)"
   ]
  },
  {
   "cell_type": "code",
   "execution_count": 289,
   "metadata": {},
   "outputs": [],
   "source": [
    "#summary(HybridSN(), input)"
   ]
  },
  {
   "cell_type": "code",
   "execution_count": 290,
   "metadata": {},
   "outputs": [
    {
     "data": {
      "text/plain": [
       "HybridSN(\n",
       "  (conv3d): Sequential(\n",
       "    (0): Conv3d(1, 8, kernel_size=(3, 3, 7), stride=(1, 1, 1))\n",
       "    (1): ReLU()\n",
       "    (2): Conv3d(8, 16, kernel_size=(3, 3, 5), stride=(1, 1, 1))\n",
       "    (3): ReLU()\n",
       "    (4): Conv3d(16, 32, kernel_size=(3, 3, 3), stride=(1, 1, 1))\n",
       "    (5): ReLU()\n",
       "  )\n",
       "  (conv2d): Sequential(\n",
       "    (0): Conv2d(30, 16, kernel_size=(1, 1), stride=(1, 1))\n",
       "    (1): ReLU()\n",
       "  )\n",
       "  (linear): Sequential(\n",
       "    (0): Linear(in_features=2560, out_features=16, bias=True)\n",
       "    (1): ReLU()\n",
       "    (2): Linear(in_features=16, out_features=16, bias=True)\n",
       "    (3): ReLU()\n",
       "  )\n",
       ")"
      ]
     },
     "execution_count": 290,
     "metadata": {},
     "output_type": "execute_result"
    }
   ],
   "source": [
    "HybridSN()"
   ]
  },
  {
   "cell_type": "code",
   "execution_count": 291,
   "metadata": {},
   "outputs": [],
   "source": [
    "conv3d = nn.Sequential(\n",
    "            nn.Conv3d(1, 8, (3, 3, 7)),\n",
    "            nn.ReLU(),\n",
    "            nn.Conv3d(8, 16, (3, 3, 5)),\n",
    "            nn.ReLU(),\n",
    "            nn.Conv3d(16, 32, (3, 3, 3)),\n",
    "            nn.ReLU()\n",
    "        )\n",
    "x = conv3d(input)"
   ]
  },
  {
   "cell_type": "code",
   "execution_count": 292,
   "metadata": {},
   "outputs": [
    {
     "data": {
      "text/plain": [
       "torch.Size([1, 32, 19, 19, 18])"
      ]
     },
     "execution_count": 292,
     "metadata": {},
     "output_type": "execute_result"
    }
   ],
   "source": [
    "x.shape"
   ]
  },
  {
   "cell_type": "code",
   "execution_count": 293,
   "metadata": {},
   "outputs": [
    {
     "data": {
      "text/plain": [
       "torch.Size([1, 576, 19, 19])"
      ]
     },
     "execution_count": 293,
     "metadata": {},
     "output_type": "execute_result"
    }
   ],
   "source": [
    "y = x.reshape((-1, x.shape[1]* x.shape[4],x.shape[2] , x.shape[3]))\n",
    "y.shape"
   ]
  },
  {
   "cell_type": "code",
   "execution_count": 294,
   "metadata": {},
   "outputs": [],
   "source": [
    "conv2d = nn.Sequential(\n",
    "            nn.Conv2d(576, 64, (3, 3)),\n",
    "            nn.ReLU()\n",
    "        )\n"
   ]
  },
  {
   "cell_type": "code",
   "execution_count": 295,
   "metadata": {},
   "outputs": [
    {
     "data": {
      "text/plain": [
       "torch.Size([1, 64, 17, 17])"
      ]
     },
     "execution_count": 295,
     "metadata": {},
     "output_type": "execute_result"
    }
   ],
   "source": [
    "y1 = conv2d(y)\n",
    "y1.shape"
   ]
  },
  {
   "cell_type": "code",
   "execution_count": 296,
   "metadata": {},
   "outputs": [],
   "source": [
    "linear = nn.Sequential(\n",
    "            nn.Linear(1156,16),\n",
    "            nn.ReLU(),\n",
    "            nn.Dropout(p=0.4),\n",
    "            nn.Linear(16, 1),\n",
    "            nn.Dropout(p=0.4),\n",
    "            nn.ReLU()\n",
    "        )"
   ]
  },
  {
   "cell_type": "code",
   "execution_count": 297,
   "metadata": {},
   "outputs": [
    {
     "data": {
      "text/plain": [
       "torch.Size([18496])"
      ]
     },
     "execution_count": 297,
     "metadata": {},
     "output_type": "execute_result"
    }
   ],
   "source": [
    "y2 = torch.flatten(y1)\n",
    "y2.shape"
   ]
  },
  {
   "cell_type": "code",
   "execution_count": 298,
   "metadata": {},
   "outputs": [
    {
     "data": {
      "text/plain": [
       "torch.Size([1, 64, 17, 17])"
      ]
     },
     "execution_count": 298,
     "metadata": {},
     "output_type": "execute_result"
    }
   ],
   "source": [
    "y1.shape"
   ]
  },
  {
   "cell_type": "code",
   "execution_count": 299,
   "metadata": {},
   "outputs": [
    {
     "name": "stdout",
     "output_type": "stream",
     "text": [
      "torch.Size([1156, 16])\n"
     ]
    },
    {
     "data": {
      "text/plain": [
       "torch.Size([16, 1156])"
      ]
     },
     "execution_count": 299,
     "metadata": {},
     "output_type": "execute_result"
    }
   ],
   "source": [
    "y4 = y2.view(-1, 16)\n",
    "\n",
    "print(y4.shape)\n",
    "y5 = y4.reshape(y4.shape[1],y4.shape[0])\n",
    "y5.shape"
   ]
  },
  {
   "cell_type": "code",
   "execution_count": 300,
   "metadata": {},
   "outputs": [
    {
     "data": {
      "text/plain": [
       "torch.Size([16, 1])"
      ]
     },
     "execution_count": 300,
     "metadata": {},
     "output_type": "execute_result"
    }
   ],
   "source": [
    "y3 = linear(y5)\n",
    "y3.shape"
   ]
  },
  {
   "cell_type": "code",
   "execution_count": 301,
   "metadata": {},
   "outputs": [
    {
     "data": {
      "text/plain": [
       "torch.Size([1, 16])"
      ]
     },
     "execution_count": 301,
     "metadata": {},
     "output_type": "execute_result"
    }
   ],
   "source": [
    "y7 = y3.view(-1, 16)\n",
    "y7.shape"
   ]
  },
  {
   "cell_type": "code",
   "execution_count": 305,
   "metadata": {},
   "outputs": [
    {
     "data": {
      "text/plain": [
       "torch.Size([1, 16])"
      ]
     },
     "execution_count": 305,
     "metadata": {},
     "output_type": "execute_result"
    }
   ],
   "source": [
    "y7.shape"
   ]
  },
  {
   "cell_type": "code",
   "execution_count": 271,
   "metadata": {},
   "outputs": [
    {
     "data": {
      "text/plain": [
       "torch.Size([16, 1])"
      ]
     },
     "execution_count": 271,
     "metadata": {},
     "output_type": "execute_result"
    }
   ],
   "source": [
    "y3.shape"
   ]
  },
  {
   "cell_type": "code",
   "execution_count": 303,
   "metadata": {},
   "outputs": [
    {
     "data": {
      "text/plain": [
       "tensor([[0.0349, 0.0523, 0.0667, 0.0000, 0.0542, 0.0626, 0.0344, 0.0579, 0.0214,\n",
       "         0.0695, 0.0542, 0.0000, 0.0664, 0.0549, 0.0405, 0.0515]],\n",
       "       grad_fn=<ViewBackward>)"
      ]
     },
     "execution_count": 303,
     "metadata": {},
     "output_type": "execute_result"
    }
   ],
   "source": [
    "#output with shape 1,16\n",
    "y7"
   ]
  },
  {
   "cell_type": "code",
   "execution_count": 304,
   "metadata": {},
   "outputs": [
    {
     "data": {
      "text/plain": [
       "tensor([[0.0349],\n",
       "        [0.0523],\n",
       "        [0.0667],\n",
       "        [0.0000],\n",
       "        [0.0542],\n",
       "        [0.0626],\n",
       "        [0.0344],\n",
       "        [0.0579],\n",
       "        [0.0214],\n",
       "        [0.0695],\n",
       "        [0.0542],\n",
       "        [0.0000],\n",
       "        [0.0664],\n",
       "        [0.0549],\n",
       "        [0.0405],\n",
       "        [0.0515]], grad_fn=<ReluBackward0>)"
      ]
     },
     "execution_count": 304,
     "metadata": {},
     "output_type": "execute_result"
    }
   ],
   "source": [
    "#output with shape 16,1\n",
    "y3"
   ]
  },
  {
   "cell_type": "code",
   "execution_count": null,
   "metadata": {},
   "outputs": [],
   "source": []
  }
 ],
 "metadata": {
  "kernelspec": {
   "display_name": "Python 3",
   "language": "python",
   "name": "python3"
  },
  "language_info": {
   "codemirror_mode": {
    "name": "ipython",
    "version": 3
   },
   "file_extension": ".py",
   "mimetype": "text/x-python",
   "name": "python",
   "nbconvert_exporter": "python",
   "pygments_lexer": "ipython3",
   "version": "3.7.3"
  }
 },
 "nbformat": 4,
 "nbformat_minor": 2
}
